{
 "cells": [
  {
   "cell_type": "markdown",
   "id": "8e8e2718",
   "metadata": {},
   "source": [
    "## LU Decomposition with Pivoting to Solve Ax = b\n",
    "\n",
    "Instead of directly computing A⁻¹ or using costly matrix operations, we:\n",
    "\n",
    "1. **Decompose A into L and U** with row pivoting:  \n",
    "   \\( PA = LU \\)  \n",
    "   where:\n",
    "   - L = Lower triangular matrix with 1s on diagonal\n",
    "   - U = Upper triangular matrix\n",
    "   - P = Permutation matrix (row swaps)\n",
    "\n",
    "2. **Solve using substitutions**:\n",
    "   - Step 1: Solve \\( Lz = Pb \\) using **forward substitution**\n",
    "   - Step 2: Solve \\( Ux = z \\) using **backward substitution**\n",
    "\n",
    "This method is numerically more stable and avoids inverting matrices.\n"
   ]
  },
  {
   "cell_type": "code",
   "execution_count": 8,
   "id": "3cc1a574",
   "metadata": {},
   "outputs": [],
   "source": [
    "import numpy as np\n"
   ]
  },
  {
   "cell_type": "code",
   "execution_count": 9,
   "id": "ed386bc4",
   "metadata": {},
   "outputs": [],
   "source": [
    "def lu_decomposition_with_partial_pivoting(matrix_A):\n",
    "    \"\"\"\n",
    "    Performs LU decomposition of matrix_A using Gaussian Elimination with Partial Pivoting.\n",
    "    Returns:\n",
    "        L: Lower triangular matrix\n",
    "        U: Upper triangular matrix\n",
    "        P: Permutation matrix (for row swaps)\n",
    "    \"\"\"\n",
    "    number_of_rows = matrix_A.shape[0]\n",
    "    permutation_matrix = np.eye(number_of_rows)\n",
    "    lower_matrix = np.zeros_like(matrix_A)\n",
    "    upper_matrix = matrix_A.copy().astype(float)\n",
    "\n",
    "    for k in range(number_of_rows):\n",
    "        # Partial Pivoting: Find index of max value in column k from row k to end\n",
    "        max_row_index = np.argmax(np.abs(upper_matrix[k:, k])) + k\n",
    "\n",
    "        if upper_matrix[max_row_index, k] == 0:\n",
    "            raise ValueError(\"Matrix is singular!\")\n",
    "\n",
    "        # Swap rows in U\n",
    "        upper_matrix[[k, max_row_index]] = upper_matrix[[max_row_index, k]]\n",
    "\n",
    "        # Swap rows in permutation matrix\n",
    "        permutation_matrix[[k, max_row_index]] = permutation_matrix[[max_row_index, k]]\n",
    "\n",
    "        # Swap rows in lower matrix (only for the part that was filled)\n",
    "        lower_matrix[[k, max_row_index], :k] = lower_matrix[[max_row_index, k], :k]\n",
    "\n",
    "        # Elimination\n",
    "        for i in range(k+1, number_of_rows):\n",
    "            multiplier = upper_matrix[i, k] / upper_matrix[k, k]\n",
    "            lower_matrix[i, k] = multiplier\n",
    "            upper_matrix[i, :] = upper_matrix[i, :] - multiplier * upper_matrix[k, :]\n",
    "\n",
    "    # Fill the diagonal of L with 1s\n",
    "    np.fill_diagonal(lower_matrix, 1.0)\n",
    "\n",
    "    return lower_matrix, upper_matrix, permutation_matrix\n"
   ]
  },
  {
   "cell_type": "code",
   "execution_count": 10,
   "id": "82a8882d",
   "metadata": {},
   "outputs": [],
   "source": [
    "def forward_substitution(lower_matrix, vector_b):\n",
    "    \"\"\"\n",
    "    Solves Lz = b using forward substitution.\n",
    "    Returns the intermediate vector z.\n",
    "    \"\"\"\n",
    "    number_of_rows = lower_matrix.shape[0]\n",
    "    vector_z = np.zeros_like(vector_b)\n",
    "\n",
    "    for i in range(number_of_rows):\n",
    "        sum_terms = sum(lower_matrix[i, j] * vector_z[j] for j in range(i))\n",
    "        vector_z[i] = (vector_b[i] - sum_terms) / lower_matrix[i, i]\n",
    "\n",
    "    return vector_z\n"
   ]
  },
  {
   "cell_type": "code",
   "execution_count": 11,
   "id": "325d2a47",
   "metadata": {},
   "outputs": [],
   "source": [
    "def backward_substitution(upper_matrix, vector_z):\n",
    "    \"\"\"\n",
    "    Solves Ux = z using backward substitution.\n",
    "    Returns the final solution vector x.\n",
    "    \"\"\"\n",
    "    number_of_rows = upper_matrix.shape[0]\n",
    "    vector_x = np.zeros_like(vector_z)\n",
    "\n",
    "    for i in reversed(range(number_of_rows)):\n",
    "        sum_terms = sum(upper_matrix[i, j] * vector_x[j] for j in range(i + 1, number_of_rows))\n",
    "        vector_x[i] = (vector_z[i] - sum_terms) / upper_matrix[i, i]\n",
    "\n",
    "    return vector_x\n"
   ]
  },
  {
   "cell_type": "code",
   "execution_count": 12,
   "id": "e947ec58",
   "metadata": {},
   "outputs": [],
   "source": [
    "def solve_using_lu(matrix_A, vector_b):\n",
    "    \"\"\"\n",
    "    Solves the system Ax = b using LU decomposition with pivoting,\n",
    "    followed by forward and backward substitution.\n",
    "    \"\"\"\n",
    "    lower_matrix, upper_matrix, permutation_matrix = lu_decomposition_with_partial_pivoting(matrix_A)\n",
    "    print(\"Lower Matrix (L):\\n\", lower_matrix)\n",
    "    print(\"Upper Matrix (U):\\n\", upper_matrix)\n",
    "    # Apply permutation to b\n",
    "    modified_vector_b = np.dot(permutation_matrix, vector_b)\n",
    "\n",
    "    # Solve L * z = Pb using forward substitution\n",
    "    vector_z = forward_substitution(lower_matrix, modified_vector_b)\n",
    "\n",
    "    # Solve U * x = z using backward substitution\n",
    "    solution_vector_x = backward_substitution(upper_matrix, vector_z)\n",
    "\n",
    "    return solution_vector_x\n"
   ]
  },
  {
   "cell_type": "code",
   "execution_count": 13,
   "id": "c2fff856",
   "metadata": {},
   "outputs": [
    {
     "name": "stdout",
     "output_type": "stream",
     "text": [
      "Lower Matrix (L):\n",
      " [[1.         0.         0.        ]\n",
      " [0.66666667 1.         0.        ]\n",
      " [0.33333333 0.6        1.        ]]\n",
      "Upper Matrix (U):\n",
      " [[ 6.         18.         22.        ]\n",
      " [ 0.         -5.         -7.66666667]\n",
      " [ 0.          0.         -1.73333333]]\n",
      "Solution vector x:\n",
      "[ 0.5 -0.  -0. ]\n"
     ]
    }
   ],
   "source": [
    "# Define matrix A and vector b\n",
    "matrix_A = np.array([\n",
    "    [2.0, 3.0, 1.0],\n",
    "    [4.0, 7.0, 7.0],\n",
    "    [6.0, 18.0, 22.0]\n",
    "])\n",
    "\n",
    "vector_b = np.array([1.0, 2.0, 3.0])\n",
    "\n",
    "# Solve Ax = b\n",
    "solution_x = solve_using_lu(matrix_A, vector_b)\n",
    "print(\"Solution vector x:\")\n",
    "print(solution_x)\n"
   ]
  },
  {
   "cell_type": "markdown",
   "id": "c795dd57",
   "metadata": {},
   "source": [
    "## Problem Statement - Material Balance Using LU Decomposition\n",
    "\n",
    "We are given a separation process in a petrochemical industry where 150 kg/h of a mixture of propane (P), butane (B), and propylene (PP) enters the first distillation column. The compositions and molecular weights are:\n",
    "\n",
    "- **Feed to Column 1:** 150 kg/h, P = 0.5, PP = 0.2\n",
    "- **Molecular Weights:**  \n",
    "  - Propane (P) = 44 g/mol  \n",
    "  - Butane (B) = 58 g/mol  \n",
    "  - Propylene (PP) = 42 g/mol\n",
    "\n",
    "From the given table:\n",
    "\n",
    "|               | Top Stream           | Bottom Stream        |\n",
    "|---------------|----------------------|----------------------|\n",
    "| **Column 1**  | P = 0.9, PP = 0.08    | P = 0.2, PP = 0.2     |\n",
    "| **Column 2**  | P = 0.95, PP = 0.03   | P = 0.05, PP = 0.85   |\n",
    "\n",
    "We need to find the **molar flow rates** (in mol/h) of the **four output streams**:\n",
    "- `x1`: Top stream of column 1\n",
    "- `x2`: Bottom stream of column 1 (feed to column 2)\n",
    "- `x3`: Top stream of column 2\n",
    "- `x4`: Bottom stream of column 2\n",
    "\n",
    "We'll form material balance equations for **Propane**, **Propylene**, and **Total moles**, and solve them using **LU decomposition**.\n"
   ]
  },
  {
   "cell_type": "code",
   "execution_count": 14,
   "id": "7f22d888",
   "metadata": {},
   "outputs": [
    {
     "name": "stdout",
     "output_type": "stream",
     "text": [
      "Total molar flow rate of feed: 3194.69 mol/h\n"
     ]
    }
   ],
   "source": [
    "# Given data\n",
    "feed_kgph = 150  # kg/h\n",
    "mol_weights = {\n",
    "    'P': 44,    # Propane\n",
    "    'B': 58,    # Butane\n",
    "    'PP': 42    # Propylene\n",
    "}\n",
    "\n",
    "# Mole fractions in feed\n",
    "feed_composition = {\n",
    "    'P': 0.5,\n",
    "    'PP': 0.2,\n",
    "    'B': 1 - 0.5 - 0.2  # rest is Butane\n",
    "}\n",
    "\n",
    "# Calculate total molar flow rate (mol/h)\n",
    "total_moles = sum((feed_composition[comp] * feed_kgph * 1000) / mol_weights[comp] for comp in mol_weights)\n",
    "print(f\"Total molar flow rate of feed: {total_moles:.2f} mol/h\")\n"
   ]
  },
  {
   "cell_type": "markdown",
   "id": "8dad7c0d",
   "metadata": {},
   "source": [
    "### System of Linear Equations\n",
    "\n",
    "Let:\n",
    "\n",
    "- `x1`: Top stream of Column 1 (mol/h)\n",
    "- `x2`: Bottom stream of Column 1 = Feed to Column 2 (mol/h)\n",
    "- `x3`: Top stream of Column 2 (mol/h)\n",
    "- `x4`: Bottom stream of Column 2 (mol/h)\n",
    "\n",
    "Based on the mole balances of P and PP and total moles:\n",
    "\n",
    "**Equation 1 (Propane balance):**  \n",
    "0.5 * F = 0.9*x1 + 0.2*x2  \n",
    "       = 0.9*x1 + 0.2*(x3 + x4)\n",
    "\n",
    "**Equation 2 (Propylene balance):**  \n",
    "0.2 * F = 0.08*x1 + 0.2*x2  \n",
    "       = 0.08*x1 + 0.2*(x3 + x4)\n",
    "\n",
    "**Equation 3 (Total molar balance):**  \n",
    "F = x1 + x2 = x1 + x3 + x4\n",
    "\n",
    "We simplify these into the matrix form `Ax = b`\n"
   ]
  },
  {
   "cell_type": "code",
   "execution_count": 15,
   "id": "b82e588c",
   "metadata": {},
   "outputs": [],
   "source": [
    "import numpy as np\n",
    "\n",
    "F = total_moles  # mol/h\n",
    "\n",
    "# Coefficients for matrix A\n",
    "A = np.array([\n",
    "    [0.9, 0.2, 0.2, 0.2],   # Propane balance\n",
    "    [0.08, 0.2, 0.2, 0.2],  # Propylene balance\n",
    "    [1.0, -1.0, -1.0, -1.0] # Total molar balance: x1 = x2 + x3 + x4\n",
    "])\n",
    "\n",
    "# Right-hand side vector b\n",
    "b = np.array([\n",
    "    0.5 * F,  # Propane input\n",
    "    0.2 * F,  # Propylene input\n",
    "    0         # x1 - x2 - x3 - x4 = 0\n",
    "])\n"
   ]
  },
  {
   "cell_type": "markdown",
   "id": "3c216cfe",
   "metadata": {},
   "source": [
    "### Final Molar Flow Rates (mol/h)\n",
    "\n",
    "From the LU decomposition solution, we get:\n",
    "\n",
    "- `x1` = Top stream of Column 1  \n",
    "- `x2` = Bottom stream of Column 1 / Feed to Column 2  \n",
    "- `x3` = Top stream of Column 2  \n",
    "- `x4` = Bottom stream of Column 2\n",
    "\n",
    "These values represent the **molar flow rates** of each output stream.\n",
    "You can multiply each with molar fractions to get the component-wise flow as well.\n"
   ]
  }
 ],
 "metadata": {
  "kernelspec": {
   "display_name": "NumericalMethods-aKN8_MB3",
   "language": "python",
   "name": "python3"
  },
  "language_info": {
   "codemirror_mode": {
    "name": "ipython",
    "version": 3
   },
   "file_extension": ".py",
   "mimetype": "text/x-python",
   "name": "python",
   "nbconvert_exporter": "python",
   "pygments_lexer": "ipython3",
   "version": "3.12.3"
  }
 },
 "nbformat": 4,
 "nbformat_minor": 5
}
