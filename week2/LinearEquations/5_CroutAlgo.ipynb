{
 "cells": [
  {
   "cell_type": "markdown",
   "id": "cce1ff7d",
   "metadata": {},
   "source": [
    "## Crout's LU Decomposition Method\n",
    "\n",
    "In Crout's method, a square matrix **A** is decomposed into two matrices:\n",
    "- **L** (lower triangular matrix): Diagonal and lower elements are filled\n",
    "- **U** (upper triangular matrix): Diagonal elements are set to 1, upper elements are computed\n",
    "\n",
    "We solve a system of linear equations **Ax = b** by:\n",
    "1. Decomposing A into L and U using Crout's method.\n",
    "2. Solving **Ly = b** using forward substitution.\n",
    "3. Solving **Ux = y** using backward substitution.\n",
    "\n",
    "Let’s walk through the full Python implementation.\n"
   ]
  },
  {
   "cell_type": "code",
   "execution_count": 1,
   "id": "db6e97d7",
   "metadata": {},
   "outputs": [],
   "source": [
    "import numpy as np"
   ]
  },
  {
   "cell_type": "markdown",
   "id": "58a60a87",
   "metadata": {},
   "source": [
    "## Step 1: Crout’s LU Decomposition Function\n",
    "\n",
    "This function decomposes a matrix `A` into a lower triangular matrix `L` and an upper triangular matrix `U` such that `A = LU`.\n",
    "\n",
    "Note: Diagonal elements of `U` are 1 by definition in Crout’s method.\n"
   ]
  },
  {
   "cell_type": "code",
   "execution_count": 2,
   "id": "7ea5c6ca",
   "metadata": {},
   "outputs": [],
   "source": [
    "def crout_decomposition(matrix):\n",
    "    \"\"\"\n",
    "    Perform Crout's LU Decomposition on a given square matrix.\n",
    "    Returns lower matrix L and upper matrix U such that A = LU.\n",
    "    \"\"\"\n",
    "\n",
    "    number_of_rows = len(matrix)\n",
    "    L = np.zeros((number_of_rows, number_of_rows))\n",
    "    U = np.identity(number_of_rows)  # U will have 1s on the diagonal\n",
    "\n",
    "    for j in range(number_of_rows):\n",
    "        for i in range(j, number_of_rows):\n",
    "            # Compute L[i][j]\n",
    "            sum_ = 0\n",
    "            for k in range(j):\n",
    "                sum_ += L[i][k] * U[k][j]\n",
    "            L[i][j] = matrix[i][j] - sum_\n",
    "\n",
    "        for i in range(j + 1, number_of_rows):\n",
    "            # Compute U[j][i]\n",
    "            sum_ = 0\n",
    "            for k in range(j):\n",
    "                sum_ += L[j][k] * U[k][i]\n",
    "            U[j][i] = (matrix[j][i] - sum_) / L[j][j]\n",
    "\n",
    "    print(\"Lower Triangular Matrix L:\\n\", L)\n",
    "    print(\"\\nUpper Triangular Matrix U:\\n\", U)\n",
    "    \n",
    "    return L, U\n"
   ]
  },
  {
   "cell_type": "markdown",
   "id": "da9222e0",
   "metadata": {},
   "source": [
    "## Step 2: Solve Ly = b using Forward Substitution\n",
    "## Step 3: Solve Ux = y using Backward Substitution\n"
   ]
  },
  {
   "cell_type": "code",
   "execution_count": 3,
   "id": "4fd933d0",
   "metadata": {},
   "outputs": [],
   "source": [
    "def forward_substitution(L, b):\n",
    "    \"\"\"Solve Ly = b for y\"\"\"\n",
    "    n = len(b)\n",
    "    y = np.zeros(n)\n",
    "\n",
    "    for i in range(n):\n",
    "        sum_ = sum(L[i][j] * y[j] for j in range(i))\n",
    "        y[i] = (b[i] - sum_) / L[i][i]\n",
    "\n",
    "    print(\"\\nSolution of Ly = b (Forward Substitution):\\n\", y)\n",
    "    return y\n",
    "\n",
    "\n",
    "def backward_substitution(U, y):\n",
    "    \"\"\"Solve Ux = y for x\"\"\"\n",
    "    n = len(y)\n",
    "    x = np.zeros(n)\n",
    "\n",
    "    for i in range(n - 1, -1, -1):\n",
    "        sum_ = sum(U[i][j] * x[j] for j in range(i + 1, n))\n",
    "        x[i] = y[i] - sum_\n",
    "\n",
    "    print(\"\\nSolution of Ux = y (Backward Substitution):\\n\", x)\n",
    "    return x\n"
   ]
  },
  {
   "cell_type": "markdown",
   "id": "4fce7a93",
   "metadata": {},
   "source": [
    "## Step 4: Solve Ax = b using Crout’s LU Decomposition\n"
   ]
  },
  {
   "cell_type": "code",
   "execution_count": 4,
   "id": "2d2ee290",
   "metadata": {},
   "outputs": [],
   "source": [
    "def solve_using_crout(matrix, b):\n",
    "    \"\"\"\n",
    "    Solve the system Ax = b using Crout's method\n",
    "    \"\"\"\n",
    "\n",
    "    print(\"Original Matrix A:\\n\", matrix)\n",
    "    print(\"Right-hand side vector b:\\n\", b)\n",
    "\n",
    "    # Decompose A into L and U\n",
    "    L, U = crout_decomposition(matrix)\n",
    "\n",
    "    # Solve Lz = b using forward substitution\n",
    "    y = forward_substitution(L, b)\n",
    "\n",
    "    # Solve Ux = y using backward substitution\n",
    "    x = backward_substitution(U, y)\n",
    "\n",
    "    return x\n"
   ]
  },
  {
   "cell_type": "code",
   "execution_count": 5,
   "id": "4cc78bfc",
   "metadata": {},
   "outputs": [
    {
     "name": "stdout",
     "output_type": "stream",
     "text": [
      "Original Matrix A:\n",
      " [[ 2. -1.  1.]\n",
      " [ 3.  3.  9.]\n",
      " [ 3.  3.  5.]]\n",
      "Right-hand side vector b:\n",
      " [ 2. -1.  4.]\n",
      "Lower Triangular Matrix L:\n",
      " [[ 2.   0.   0. ]\n",
      " [ 3.   4.5  0. ]\n",
      " [ 3.   4.5 -4. ]]\n",
      "\n",
      "Upper Triangular Matrix U:\n",
      " [[ 1.         -0.5         0.5       ]\n",
      " [ 0.          1.          1.66666667]\n",
      " [ 0.          0.          1.        ]]\n",
      "\n",
      "Solution of Ly = b (Forward Substitution):\n",
      " [ 1.         -0.88888889 -1.25      ]\n",
      "\n",
      "Solution of Ux = y (Backward Substitution):\n",
      " [ 2.22222222  1.19444444 -1.25      ]\n",
      "\n",
      "Final Solution x:\n",
      " [ 2.22222222  1.19444444 -1.25      ]\n"
     ]
    }
   ],
   "source": [
    "A = np.array([\n",
    "    [2, -1, 1],\n",
    "    [3, 3, 9],\n",
    "    [3, 3, 5]\n",
    "], dtype=float)\n",
    "\n",
    "b = np.array([2, -1, 4], dtype=float)\n",
    "\n",
    "solution = solve_using_crout(A, b)\n",
    "print(\"\\nFinal Solution x:\\n\", solution)\n"
   ]
  }
 ],
 "metadata": {
  "kernelspec": {
   "display_name": "NumericalMethods-aKN8_MB3",
   "language": "python",
   "name": "python3"
  },
  "language_info": {
   "codemirror_mode": {
    "name": "ipython",
    "version": 3
   },
   "file_extension": ".py",
   "mimetype": "text/x-python",
   "name": "python",
   "nbconvert_exporter": "python",
   "pygments_lexer": "ipython3",
   "version": "3.12.3"
  }
 },
 "nbformat": 4,
 "nbformat_minor": 5
}
