{
 "cells": [
  {
   "cell_type": "markdown",
   "id": "f959002a",
   "metadata": {},
   "source": [
    "# Doolittle's LU Decomposition Method to Solve Ax = b\n",
    "\n",
    "This notebook demonstrates how to solve a linear system `Ax = b` using **LU Decomposition** via the **Doolittle Algorithm**.\n",
    "\n",
    "### What is Doolittle's Algorithm?\n",
    "- It decomposes the matrix `A` into `L` and `U` such that:  \n",
    "  **A = L * U**\n",
    "- In **Doolittle**, the diagonal elements of `L` are `1`.\n",
    "- We then solve:\n",
    "  - `Lz = b` using forward substitution\n",
    "  - `Ux = z` using backward substitution\n",
    "\n",
    "This is efficient and avoids direct matrix inversion.\n"
   ]
  },
  {
   "cell_type": "code",
   "execution_count": 1,
   "id": "c0b35873",
   "metadata": {},
   "outputs": [],
   "source": [
    "import numpy as np"
   ]
  },
  {
   "cell_type": "code",
   "execution_count": 4,
   "id": "a7e9b2c8",
   "metadata": {},
   "outputs": [],
   "source": [
    "\n",
    "def doolittle_lu_decomposition(matrix):\n",
    "    \"\"\"\n",
    "    Performs LU decomposition using Doolittle's method.\n",
    "    The matrix is decomposed into L and U such that A = L * U,\n",
    "    where L has unit diagonal elements.\n",
    "    \"\"\"\n",
    "    n = len(matrix)\n",
    "    L = np.zeros((n, n))\n",
    "    U = np.zeros((n, n))\n",
    "\n",
    "    print(\"Starting Doolittle LU Decomposition...\\n\")\n",
    "\n",
    "    for i in range(n):\n",
    "        # Constructing U\n",
    "        for k in range(i, n):\n",
    "            sum_upper = sum(L[i][j] * U[j][k] for j in range(i))\n",
    "            U[i][k] = matrix[i][k] - sum_upper\n",
    "\n",
    "        # Constructing L\n",
    "        L[i][i] = 1  # Diagonal elements are 1\n",
    "        for k in range(i + 1, n):\n",
    "            sum_lower = sum(L[k][j] * U[j][i] for j in range(i))\n",
    "            L[k][i] = (matrix[k][i] - sum_lower) / U[i][i]\n",
    "\n",
    "    print(\"Decomposition Complete ✅\\n\")\n",
    "    print(\"Lower Triangular Matrix (L):\\n\", L)\n",
    "    print(\"\\nUpper Triangular Matrix (U):\\n\", U)\n",
    "\n",
    "    return L, U\n"
   ]
  },
  {
   "cell_type": "code",
   "execution_count": 5,
   "id": "e9cfd78f",
   "metadata": {},
   "outputs": [],
   "source": [
    "def forward_substitution(L, b):\n",
    "    \"\"\"\n",
    "    Solves Lz = b using forward substitution.\n",
    "    \"\"\"\n",
    "    n = len(b)\n",
    "    z = np.zeros(n)\n",
    "\n",
    "    print(\"\\nSolving Lz = b using Forward Substitution...\")\n",
    "\n",
    "    for i in range(n):\n",
    "        sum_val = sum(L[i][j] * z[j] for j in range(i))\n",
    "        z[i] = b[i] - sum_val\n",
    "        print(f\"z[{i}] = {z[i]}\")\n",
    "\n",
    "    return z\n"
   ]
  },
  {
   "cell_type": "code",
   "execution_count": 6,
   "id": "da5883e0",
   "metadata": {},
   "outputs": [],
   "source": [
    "def backward_substitution(U, z):\n",
    "    \"\"\"\n",
    "    Solves Ux = z using backward substitution.\n",
    "    \"\"\"\n",
    "    n = len(z)\n",
    "    x = np.zeros(n)\n",
    "\n",
    "    print(\"\\nSolving Ux = z using Backward Substitution...\")\n",
    "\n",
    "    for i in range(n-1, -1, -1):\n",
    "        sum_val = sum(U[i][j] * x[j] for j in range(i+1, n))\n",
    "        x[i] = (z[i] - sum_val) / U[i][i]\n",
    "        print(f\"x[{i}] = {x[i]}\")\n",
    "\n",
    "    return x\n"
   ]
  },
  {
   "cell_type": "code",
   "execution_count": 7,
   "id": "145232a6",
   "metadata": {},
   "outputs": [
    {
     "name": "stdout",
     "output_type": "stream",
     "text": [
      "Input Matrix A:\n",
      " [[ 2. -1.  1.]\n",
      " [ 3.  3.  9.]\n",
      " [ 3.  3.  5.]]\n",
      "\n",
      "Right-hand side vector b:\n",
      " [ 2. -1.  4.]\n",
      "Starting Doolittle LU Decomposition...\n",
      "\n",
      "Decomposition Complete ✅\n",
      "\n",
      "Lower Triangular Matrix (L):\n",
      " [[1.  0.  0. ]\n",
      " [1.5 1.  0. ]\n",
      " [1.5 1.  1. ]]\n",
      "\n",
      "Upper Triangular Matrix (U):\n",
      " [[ 2.  -1.   1. ]\n",
      " [ 0.   4.5  7.5]\n",
      " [ 0.   0.  -4. ]]\n",
      "\n",
      "Solving Lz = b using Forward Substitution...\n",
      "z[0] = 2.0\n",
      "z[1] = -4.0\n",
      "z[2] = 5.0\n",
      "\n",
      "Solving Ux = z using Backward Substitution...\n",
      "x[2] = -1.25\n",
      "x[1] = 1.1944444444444444\n",
      "x[0] = 2.2222222222222223\n",
      "\n",
      "✅ Final Solution x:\n",
      " [ 2.22222222  1.19444444 -1.25      ]\n"
     ]
    }
   ],
   "source": [
    "# Define A and b\n",
    "A = np.array([[2.0, -1.0, 1.0],\n",
    "              [3.0, 3.0, 9.0],\n",
    "              [3.0, 3.0, 5.0]])\n",
    "\n",
    "b = np.array([2.0, -1.0, 4.0])\n",
    "\n",
    "print(\"Input Matrix A:\\n\", A)\n",
    "print(\"\\nRight-hand side vector b:\\n\", b)\n",
    "\n",
    "# LU Decomposition\n",
    "L, U = doolittle_lu_decomposition(A)\n",
    "\n",
    "# Solve Lz = b\n",
    "z = forward_substitution(L, b)\n",
    "\n",
    "# Solve Ux = z\n",
    "x = backward_substitution(U, z)\n",
    "\n",
    "print(\"\\n✅ Final Solution x:\\n\", x)\n"
   ]
  },
  {
   "cell_type": "markdown",
   "id": "f7e4ea20",
   "metadata": {},
   "source": [
    "# ✅ Conclusion\n",
    "\n",
    "Using **Doolittle's LU Decomposition**, we efficiently solved the system **Ax = b** by:\n",
    "1. Decomposing A into L and U.\n",
    "2. Solving **Lz = b** using forward substitution.\n",
    "3. Solving **Ux = z** using backward substitution.\n",
    "\n",
    "This avoids direct matrix inversion and is numerically stable if the matrix is not singular or ill-conditioned.\n"
   ]
  }
 ],
 "metadata": {
  "kernelspec": {
   "display_name": "NumericalMethods-aKN8_MB3",
   "language": "python",
   "name": "python3"
  },
  "language_info": {
   "codemirror_mode": {
    "name": "ipython",
    "version": 3
   },
   "file_extension": ".py",
   "mimetype": "text/x-python",
   "name": "python",
   "nbconvert_exporter": "python",
   "pygments_lexer": "ipython3",
   "version": "3.12.3"
  }
 },
 "nbformat": 4,
 "nbformat_minor": 5
}
