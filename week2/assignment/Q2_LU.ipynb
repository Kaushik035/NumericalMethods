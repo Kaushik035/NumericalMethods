{
 "cells": [
  {
   "cell_type": "markdown",
   "id": "d0274476",
   "metadata": {},
   "source": [
    "## Q2.\n",
    "\n",
    "In a petrochemical industry, the separation of compounds is an important task\n",
    "especially propane and propene (also known as propylene). At a particular section of\n",
    "the industry, for instance, there is need to isolate three compounds namely, propane (P),\n",
    "butane, and propylene (PP). The section runs on two distillation columns in order to\n",
    "achieve a partial separation of these compounds. 150 kg/h of the mixture runs into the\n",
    "first column, and its molar composition is P=0.5 and PP=0.2. While the feed for the\n",
    "second column is the bottom of the first one. We know the molar compositions of all\n",
    "the exiting streams from both the columns. Table 1 shows all the required molar\n",
    "composition values. \n",
    "\n",
    "\n",
    "However, we need to know the molar flow rates of all the streams of both the columns.\n",
    "Solve the material balance problem using LU decomposition method. Given, the\n",
    "molecular weight of propane, butane, and propene is 44g/mol, 58g/mol, and 42g/mol,\n",
    "respectively\n",
    "\n",
    "\n",
    "**Column 1**  \n",
    "P = 0.9, PP = 0.08 (top stream) | P = 0.2, PP = 0.2  (bottom stream)\n",
    "\n",
    "**Column 2** \n",
    "P = 0.95, PP = 0.03 (top stream) | P = 0.05, PP = 0.85  (bottom stream)\n",
    "\n",
    "\n",
    "To find the molar flow rates (in mol/h) of the four output streams:\n",
    "- x1 = molar flowrate of Top stream of Column 1\n",
    "- x2 = molar flowrate of Bottom stream of Column 1\n",
    "- x3 = molar flowrate of Top stream of Column 2\n",
    "- x4 = molar flowrate of Bottom stream of Column 2\n",
    "\n"
   ]
  },
  {
   "cell_type": "code",
   "execution_count": 1,
   "id": "b8c91da3",
   "metadata": {},
   "outputs": [
    {
     "data": {
      "text/plain": [
       "3138.0753138075315"
      ]
     },
     "execution_count": 1,
     "metadata": {},
     "output_type": "execute_result"
    }
   ],
   "source": [
    "# Molecular weights in g/mol\n",
    "MW = {\n",
    "    \"P\": 44,\n",
    "    \"B\": 58,\n",
    "    \"PP\": 42\n",
    "}\n",
    "\n",
    "# Total feed in kg/h → convert to grams/h\n",
    "total_feed_gph = 150 * 1000  # g/h\n",
    "\n",
    "# Feed composition (molar basis)\n",
    "feed_mole_frac = {\n",
    "    \"P\": 0.5,\n",
    "    \"PP\": 0.2,\n",
    "    \"B\": 1 - 0.5 - 0.2  # = 0.3\n",
    "}\n",
    "\n",
    "# Calculate average molecular weight of feed\n",
    "MW_avg = (\n",
    "    feed_mole_frac[\"P\"] * MW[\"P\"]\n",
    "    + feed_mole_frac[\"B\"] * MW[\"B\"]\n",
    "    + feed_mole_frac[\"PP\"] * MW[\"PP\"]\n",
    ")\n",
    "\n",
    "# Total moles in feed (mol/h)\n",
    "total_moles_feed = total_feed_gph / MW_avg\n",
    "total_moles_feed\n"
   ]
  },
  {
   "cell_type": "code",
   "execution_count": 2,
   "id": "90c43fda",
   "metadata": {},
   "outputs": [],
   "source": [
    "# Let:\n",
    "# x1 = molar flowrate of Top stream of Column 1\n",
    "# x2 = molar flowrate of Bottom stream of Column 1\n",
    "# x3 = molar flowrate of Top stream of Column 2\n",
    "# x4 = molar flowrate of Bottom stream of Column 2\n",
    "\n",
    "# Based on component-wise balances:\n",
    "# P balance:\n",
    "# 0.5 * F = 0.9*x1 + 0.2*x2\n",
    "# 0.2*x2 = 0.95*x3 + 0.05*x4\n",
    "\n",
    "# PP balance:\n",
    "# 0.2 * F = 0.08*x1 + 0.2*x2\n",
    "# 0.85*x4 = 0.03*x3 + 0.2*x2\n",
    "\n",
    "# Rewriting in Ax = b form:\n",
    "\n",
    "import numpy as np\n",
    "\n",
    "A = np.array([\n",
    "    [0.9, 0.2, 0,   0],\n",
    "    [0,   0.2, 0.95, 0.05],\n",
    "    [0.08, 0.2, 0,   0],\n",
    "    [0,   0.2, 0.03, -0.85]\n",
    "])\n",
    "\n",
    "b = np.array([\n",
    "    feed_mole_frac[\"P\"] * total_moles_feed,\n",
    "    0.2 * total_moles_feed,\n",
    "    feed_mole_frac[\"PP\"] * total_moles_feed,\n",
    "    0  # Since equation: 0.85*x4 = 0.03*x3 + 0.2*x2\n",
    "])\n"
   ]
  },
  {
   "cell_type": "code",
   "execution_count": 3,
   "id": "b7689926",
   "metadata": {},
   "outputs": [],
   "source": [
    "def lu_decomposition(matrix_A):\n",
    "    \"\"\"\n",
    "    Returns:\n",
    "        L: Lower triangular matrix\n",
    "        U: Upper triangular matrix\n",
    "        P: Permutation matrix\n",
    "    \"\"\"\n",
    "    number_of_rows = matrix_A.shape[0]\n",
    "    permutation_matrix = np.eye(number_of_rows)\n",
    "    lower_matrix = np.zeros_like(matrix_A)\n",
    "    upper_matrix = matrix_A.copy().astype(float)\n",
    "\n",
    "    for k in range(number_of_rows):\n",
    "        # Find index of max value in column k from row k to end\n",
    "        max_row_index = np.argmax(np.abs(upper_matrix[k:, k])) + k\n",
    "\n",
    "        # Swap rows in U\n",
    "        upper_matrix[[k, max_row_index]] = upper_matrix[[max_row_index, k]]\n",
    "\n",
    "        # Swap rows in permutation matrix\n",
    "        permutation_matrix[[k, max_row_index]] = permutation_matrix[[max_row_index, k]]\n",
    "\n",
    "        # Swap rows in lower matrix (only for the part that was filled)\n",
    "        lower_matrix[[k, max_row_index], :k] = lower_matrix[[max_row_index, k], :k]\n",
    "\n",
    "        # Elimination\n",
    "        for i in range(k+1, number_of_rows):\n",
    "            multiplier = upper_matrix[i, k] / upper_matrix[k, k]\n",
    "            lower_matrix[i, k] = multiplier\n",
    "            upper_matrix[i, :] = upper_matrix[i, :] - multiplier * upper_matrix[k, :]\n",
    "\n",
    "    # Fill the diagonal of L with 1s\n",
    "    np.fill_diagonal(lower_matrix, 1.0)\n",
    "\n",
    "    return lower_matrix, upper_matrix, permutation_matrix\n"
   ]
  },
  {
   "cell_type": "code",
   "execution_count": 4,
   "id": "22b1858e",
   "metadata": {},
   "outputs": [],
   "source": [
    "def forward_substitution(lower_matrix, vector_b):\n",
    "    \"\"\"\n",
    "    Solves Lz = b using forward substitution.\n",
    "    Returns the intermediate vector z.\n",
    "    \"\"\"\n",
    "    number_of_rows = lower_matrix.shape[0]\n",
    "    vector_z = np.zeros_like(vector_b)\n",
    "\n",
    "    for i in range(number_of_rows):\n",
    "        sum_terms = sum(lower_matrix[i, j] * vector_z[j] for j in range(i))\n",
    "        vector_z[i] = (vector_b[i] - sum_terms) / lower_matrix[i, i]\n",
    "\n",
    "    return vector_z\n"
   ]
  },
  {
   "cell_type": "code",
   "execution_count": 5,
   "id": "529a8c17",
   "metadata": {},
   "outputs": [],
   "source": [
    "def backward_substitution(upper_matrix, vector_z):\n",
    "    \"\"\"\n",
    "    Solves Ux = z using backward substitution.\n",
    "    Returns the final solution vector x.\n",
    "    \"\"\"\n",
    "    number_of_rows = upper_matrix.shape[0]\n",
    "    vector_x = np.zeros_like(vector_z)\n",
    "\n",
    "    for i in reversed(range(number_of_rows)):\n",
    "        sum_terms = sum(upper_matrix[i, j] * vector_x[j] for j in range(i + 1, number_of_rows))\n",
    "        vector_x[i] = (vector_z[i] - sum_terms) / upper_matrix[i, i]\n",
    "\n",
    "    return vector_x\n"
   ]
  },
  {
   "cell_type": "code",
   "execution_count": 6,
   "id": "79bd98c8",
   "metadata": {},
   "outputs": [],
   "source": [
    "def solve_using_lu(matrix_A, vector_b):\n",
    "    \"\"\"\n",
    "    Solves the system Ax = b using LU decomposition,\n",
    "    followed by forward and backward substitution.\n",
    "    \"\"\"\n",
    "    lower_matrix, upper_matrix, permutation_matrix = lu_decomposition(matrix_A)\n",
    "    print(\"Lower Matrix (L):\\n\", lower_matrix)\n",
    "    print(\"Upper Matrix (U):\\n\", upper_matrix)\n",
    "    # Apply permutation to b\n",
    "    modified_vector_b = np.dot(permutation_matrix, vector_b)\n",
    "\n",
    "    # Solve L * z = Pb using forward substitution\n",
    "    vector_z = forward_substitution(lower_matrix, modified_vector_b)\n",
    "\n",
    "    # Solve U * x = z using backward substitution\n",
    "    solution_vector_x = backward_substitution(upper_matrix, vector_z)\n",
    "\n",
    "    return solution_vector_x\n"
   ]
  },
  {
   "cell_type": "markdown",
   "id": "8ba3803f",
   "metadata": {},
   "source": [
    "#### Molar flow rates are:"
   ]
  },
  {
   "cell_type": "code",
   "execution_count": null,
   "id": "32654fa5",
   "metadata": {},
   "outputs": [
    {
     "name": "stdout",
     "output_type": "stream",
     "text": [
      "Lower Matrix (L):\n",
      " [[1.         0.         0.         0.        ]\n",
      " [0.         1.         0.         0.        ]\n",
      " [0.         1.         1.         0.        ]\n",
      " [0.08888889 0.91111111 0.94082126 1.        ]]\n",
      "Upper Matrix (U):\n",
      " [[ 0.9         0.2         0.          0.        ]\n",
      " [ 0.          0.2         0.95        0.05      ]\n",
      " [ 0.          0.         -0.92       -0.9       ]\n",
      " [ 0.          0.          0.          0.80118357]]\n",
      "Molar flow rates of components: [1148.07633432 2678.84478008   63.38781574  632.55363587]\n"
     ]
    }
   ],
   "source": [
    "flow_rates = solve_using_lu(A, b)\n",
    "print(\"Molar flow rates of components:\", flow_rates)"
   ]
  }
 ],
 "metadata": {
  "kernelspec": {
   "display_name": "NumericalMethods-aKN8_MB3",
   "language": "python",
   "name": "python3"
  },
  "language_info": {
   "codemirror_mode": {
    "name": "ipython",
    "version": 3
   },
   "file_extension": ".py",
   "mimetype": "text/x-python",
   "name": "python",
   "nbconvert_exporter": "python",
   "pygments_lexer": "ipython3",
   "version": "3.12.3"
  }
 },
 "nbformat": 4,
 "nbformat_minor": 5
}
