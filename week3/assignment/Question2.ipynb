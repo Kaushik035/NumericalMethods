{
 "cells": [
  {
   "cell_type": "code",
   "execution_count": 7,
   "id": "a8c689cc",
   "metadata": {},
   "outputs": [],
   "source": [
    "import numpy as np"
   ]
  },
  {
   "cell_type": "code",
   "execution_count": 8,
   "id": "e6fe0cb1",
   "metadata": {},
   "outputs": [],
   "source": [
    "\n",
    "# System of equations\n",
    "def F(X):\n",
    "    x, y = X\n",
    "    return np.array([\n",
    "        x**2 + y**2 - 5,  # f1(x,y)\n",
    "        x*y - 2           # f2(x,y)\n",
    "    ])\n",
    "\n",
    "# Jacobian matrix\n",
    "def J(X):\n",
    "    x, y = X\n",
    "    return np.array([\n",
    "        [2*x, 2*y],\n",
    "        [y,   x]\n",
    "    ])"
   ]
  },
  {
   "cell_type": "code",
   "execution_count": 9,
   "id": "28751471",
   "metadata": {},
   "outputs": [],
   "source": [
    "def newton_raphson_system(F, J, X0, tol=1e-6, max_iter=100):\n",
    "    X = np.array(X0, dtype=float)\n",
    "    iteration_data = []\n",
    "    \n",
    "    for i in range(max_iter):\n",
    "        F_val = F(X)\n",
    "        norm_F = np.linalg.norm(F_val, ord=2)\n",
    "        \n",
    "        if norm_F < tol:\n",
    "            return X, iteration_data\n",
    "        \n",
    "        delta = np.linalg.solve(J(X), -F_val)\n",
    "        X_new = X + delta\n",
    "        \n",
    "        iteration_data.append((i+1, X[0], X[1], norm_F, delta[0], delta[1]))\n",
    "        \n",
    "        if np.linalg.norm(delta, ord=2) < tol:\n",
    "            return X_new, iteration_data\n",
    "        \n",
    "        X = X_new\n",
    "    \n",
    "    raise ValueError(\"Newton–Raphson: Did not converge\")\n"
   ]
  },
  {
   "cell_type": "code",
   "execution_count": 10,
   "id": "a4451f52",
   "metadata": {},
   "outputs": [],
   "source": [
    "def fixed_point_iteration(X0, tol=1e-6, max_iter=100):\n",
    "    X = np.array(X0, dtype=float)\n",
    "    iteration_data = []\n",
    "    \n",
    "    for i in range(max_iter):\n",
    "        x, y = X\n",
    "        x_new = 2 / y\n",
    "        y_new = np.sqrt(5 - x_new**2)\n",
    "        \n",
    "        iteration_data.append((i+1, x, y))\n",
    "        \n",
    "        if np.linalg.norm([x_new - x, y_new - y], ord=2) < tol:\n",
    "            return np.array([x_new, y_new]), iteration_data\n",
    "        \n",
    "        X = np.array([x_new, y_new])\n",
    "    \n",
    "    raise ValueError(\"Fixed-Point Iteration: Did not converge\")\n"
   ]
  },
  {
   "cell_type": "code",
   "execution_count": 11,
   "id": "f664be4b",
   "metadata": {},
   "outputs": [
    {
     "name": "stdout",
     "output_type": "stream",
     "text": [
      "Newton–Raphson Root: [2.00000002 0.99999998]\n",
      "Iterations (Newton–Raphson):\n",
      "Iter 1: x=1.500000, y=1.000000, |F|=1.82e+00, dx=6.50e-01, dy=-1.00e-01\n",
      "Iter 2: x=2.150000, y=0.900000, |F|=4.37e-01, dx=-1.37e-01, dy=8.77e-02\n",
      "Iter 3: x=2.012705, y=0.987705, |F|=2.91e-02, dx=-1.26e-02, dy=1.21e-02\n",
      "Iter 4: x=2.000152, y=0.999848, |F|=3.41e-04, dx=-1.52e-04, dy=1.52e-04\n",
      "\n",
      "----------------------------------------\n",
      "Fixed-Point Iteration Root: [2. 1.]\n",
      "Iterations (Fixed-Point Iteration):\n",
      "Iter 1: x=1.500000, y=1.000000\n",
      "Iter 2: x=2.000000, y=1.000000\n"
     ]
    }
   ],
   "source": [
    "# Initial guess\n",
    "X0 = [1.5, 1.0]\n",
    "\n",
    "\n",
    "# Newton–Raphson\n",
    "root_NR, iter_NR = newton_raphson_system(F, J, X0)\n",
    "print(\"Newton–Raphson Root:\", root_NR)\n",
    "print(\"Iterations (Newton–Raphson):\")\n",
    "for it in iter_NR:\n",
    "    print(f\"Iter {it[0]}: x={it[1]:.6f}, y={it[2]:.6f}, |F|={it[3]:.2e}, dx={it[4]:.2e}, dy={it[5]:.2e}\")\n",
    "\n",
    "print(\"\\n\" + \"-\"*40)\n",
    "\n",
    "# Fixed-Point Iteration\n",
    "root_FP, iter_FP = fixed_point_iteration(X0)\n",
    "print(\"Fixed-Point Iteration Root:\", root_FP)\n",
    "print(\"Iterations (Fixed-Point Iteration):\")\n",
    "for it in iter_FP:\n",
    "    print(f\"Iter {it[0]}: x={it[1]:.6f}, y={it[2]:.6f}\")\n"
   ]
  }
 ],
 "metadata": {
  "kernelspec": {
   "display_name": "NumericalMethods-aKN8_MB3",
   "language": "python",
   "name": "python3"
  },
  "language_info": {
   "codemirror_mode": {
    "name": "ipython",
    "version": 3
   },
   "file_extension": ".py",
   "mimetype": "text/x-python",
   "name": "python",
   "nbconvert_exporter": "python",
   "pygments_lexer": "ipython3",
   "version": "3.12.3"
  }
 },
 "nbformat": 4,
 "nbformat_minor": 5
}
