{
 "cells": [
  {
   "cell_type": "code",
   "execution_count": 14,
   "id": "96c9a96c",
   "metadata": {},
   "outputs": [],
   "source": [
    "import numpy as np\n",
    "import math"
   ]
  },
  {
   "cell_type": "code",
   "execution_count": null,
   "id": "7458b53f",
   "metadata": {},
   "outputs": [],
   "source": [
    "# Cell 2: Define the function and its derivative\n",
    "def f(x):\n",
    "    \"\"\"\n",
    "    Example: f(x) = x^3 - x - 2\n",
    "    \"\"\"\n",
    "    return x**3 -2*(x**2) + 4\n",
    "# math.exp(-x) - x\n",
    "# x**3 - x - 2\n",
    "# math.cos(x) - x\n",
    "# x**3 -2*(x**2) + 4\n",
    "\n",
    "def f_prime(x):\n",
    "    \"\"\"\n",
    "    Derivative: f'(x) = 3x^2 - 1\n",
    "    \"\"\"\n",
    "    return 3*(x**2) - 4*x\n",
    "\n",
    "# -math.exp(-x) - 1\n",
    "# 3*x**2 - 1\n",
    "# -math.sin(x) - 1\n",
    "# 3*(x**2) - 4*x\n"
   ]
  },
  {
   "cell_type": "code",
   "execution_count": 16,
   "id": "88e40f57",
   "metadata": {},
   "outputs": [],
   "source": [
    "# Cell 3: Implement the Newton–Raphson method\n",
    "def newton_raphson(f_func, f_prime_func, x0, tol=1e-6, max_iter=100):\n",
    "    \"\"\"\n",
    "    Newton–Raphson method to find root of f(x) = 0.\n",
    "\n",
    "    Parameters:\n",
    "        f_func       : Function f(x)\n",
    "        f_prime_func : Derivative f'(x)\n",
    "        x0           : Initial guess\n",
    "        tol          : Tolerance for stopping criterion\n",
    "        max_iter     : Maximum number of iterations\n",
    "\n",
    "    Returns:\n",
    "        root, iterations\n",
    "    \"\"\"\n",
    "    iteration_data = []\n",
    "    x_current = x0\n",
    "\n",
    "    for i in range(max_iter):\n",
    "        f_val = f_func(x_current)\n",
    "        f_prime_val = f_prime_func(x_current)\n",
    "\n",
    "        if f_prime_val == 0:\n",
    "            raise ZeroDivisionError(f\"Derivative zero at iteration {i+1}, x = {x_current}\")\n",
    "\n",
    "        x_next = x_current - f_val / f_prime_val\n",
    "        error = abs(x_next - x_current)\n",
    "\n",
    "        iteration_data.append((i+1, x_current, f_val, f_prime_val, x_next, error))\n",
    "\n",
    "        if error < tol:\n",
    "            return x_next, iteration_data\n",
    "\n",
    "        x_current = x_next\n",
    "\n",
    "    raise ValueError(\"Max iterations reached without convergence.\")\n"
   ]
  },
  {
   "cell_type": "code",
   "execution_count": 17,
   "id": "3a42274a",
   "metadata": {},
   "outputs": [
    {
     "name": "stdout",
     "output_type": "stream",
     "text": [
      "Estimated root: -1.130395\n",
      "\n",
      "Iteration data:\n",
      "Iter 1: x=1.500000, f(x)=2.875000e+00, f'(x)=7.500000e-01, x_next=-2.333333, error=3.833333e+00\n",
      "Iter 2: x=-2.333333, f(x)=-1.959259e+01, f'(x)=2.566667e+01, x_next=-1.569986, error=7.633478e-01\n",
      "Iter 3: x=-1.569986, f(x)=-4.799496e+00, f'(x)=1.367451e+01, x_next=-1.219004, error=3.509813e-01\n",
      "Iter 4: x=-1.219004, f(x)=-7.833485e-01, f'(x)=9.333932e+00, x_next=-1.135079, error=8.392482e-02\n",
      "Iter 5: x=-1.135079, f(x)=-3.925335e-02, f'(x)=8.405534e+00, x_next=-1.130410, error=4.669942e-03\n",
      "Iter 6: x=-1.130410, f(x)=-1.177775e-04, f'(x)=8.355115e+00, x_next=-1.130395, error=1.409646e-05\n",
      "Iter 7: x=-1.130395, f(x)=-1.071288e-09, f'(x)=8.354963e+00, x_next=-1.130395, error=1.282217e-10\n"
     ]
    }
   ],
   "source": [
    "# Cell 4: Run the method\n",
    "x0 = 1.5  # Initial guess\n",
    "root, iterations = newton_raphson(f, f_prime, x0, tol=1e-6)\n",
    "\n",
    "print(f\"Estimated root: {root:.6f}\")\n",
    "print(\"\\nIteration data:\")\n",
    "for it in iterations:\n",
    "    print(f\"Iter {it[0]}: x={it[1]:.6f}, f(x)={it[2]:.6e}, f'(x)={it[3]:.6e}, x_next={it[4]:.6f}, error={it[5]:.6e}\")\n"
   ]
  }
 ],
 "metadata": {
  "kernelspec": {
   "display_name": "NumericalMethods-aKN8_MB3",
   "language": "python",
   "name": "python3"
  },
  "language_info": {
   "codemirror_mode": {
    "name": "ipython",
    "version": 3
   },
   "file_extension": ".py",
   "mimetype": "text/x-python",
   "name": "python",
   "nbconvert_exporter": "python",
   "pygments_lexer": "ipython3",
   "version": "3.12.3"
  }
 },
 "nbformat": 4,
 "nbformat_minor": 5
}
