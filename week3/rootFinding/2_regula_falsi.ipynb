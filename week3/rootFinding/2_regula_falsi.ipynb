{
 "cells": [
  {
   "cell_type": "code",
   "execution_count": 1,
   "id": "0f83eaa6",
   "metadata": {},
   "outputs": [],
   "source": [
    "import numpy as np"
   ]
  },
  {
   "cell_type": "code",
   "execution_count": 2,
   "id": "e5bce769",
   "metadata": {},
   "outputs": [],
   "source": [
    "# Cell 2: Define the function\n",
    "def f(x):\n",
    "    \"\"\"\n",
    "    Example function: f(x) = x^3 - x - 2\n",
    "    You can replace this with your own function.\n",
    "    \"\"\"\n",
    "    return x**3 - x - 2\n"
   ]
  },
  {
   "cell_type": "code",
   "execution_count": 3,
   "id": "7e71f72c",
   "metadata": {},
   "outputs": [],
   "source": [
    "# Cell 3: Implement the Regula Falsi Method\n",
    "def regula_falsi(func, a, b, tol=1e-6, max_iter=100):\n",
    "    \"\"\"\n",
    "    Regula Falsi (False Position) method to find root of a function in [a, b].\n",
    "\n",
    "    Parameters:\n",
    "        func     : Function to evaluate\n",
    "        a, b     : Interval where the function changes sign\n",
    "        tol      : Tolerance for stopping criterion\n",
    "        max_iter : Maximum number of iterations\n",
    "\n",
    "    Returns:\n",
    "        root, iterations\n",
    "    \"\"\"\n",
    "    if func(a) * func(b) >= 0:\n",
    "        raise ValueError(\"f(a) and f(b) must have opposite signs.\")\n",
    "\n",
    "    iteration_data = []\n",
    "\n",
    "    for i in range(max_iter):\n",
    "        # Formula for Regula Falsi\n",
    "        c = b - (func(b) * (a - b)) / (func(a) - func(b))\n",
    "        f_c = func(c)\n",
    "\n",
    "        # Store iteration details\n",
    "        iteration_data.append((i+1, a, b, c, f_c))\n",
    "\n",
    "        if abs(f_c) < tol:\n",
    "            return c, iteration_data\n",
    "\n",
    "        if func(a) * f_c < 0:\n",
    "            b = c\n",
    "        else:\n",
    "            a = c\n",
    "\n",
    "    raise ValueError(\"Max iterations reached without convergence.\")\n"
   ]
  },
  {
   "cell_type": "code",
   "execution_count": 4,
   "id": "36a17c90",
   "metadata": {},
   "outputs": [
    {
     "name": "stdout",
     "output_type": "stream",
     "text": [
      "Estimated root: 1.521380\n",
      "\n",
      "Iteration data:\n",
      "Iter 1: a=1.000000, b=2.000000, c=1.333333, f(c)=-9.629630e-01\n",
      "Iter 2: a=1.333333, b=2.000000, c=1.462687, f(c)=-3.333389e-01\n",
      "Iter 3: a=1.462687, b=2.000000, c=1.504019, f(c)=-1.018180e-01\n",
      "Iter 4: a=1.504019, b=2.000000, c=1.516331, f(c)=-2.989480e-02\n",
      "Iter 5: a=1.516331, b=2.000000, c=1.519919, f(c)=-8.675066e-03\n",
      "Iter 6: a=1.519919, b=2.000000, c=1.520957, f(c)=-2.508805e-03\n",
      "Iter 7: a=1.520957, b=2.000000, c=1.521258, f(c)=-7.248228e-04\n",
      "Iter 8: a=1.521258, b=2.000000, c=1.521344, f(c)=-2.093499e-04\n",
      "Iter 9: a=1.521344, b=2.000000, c=1.521370, f(c)=-6.046133e-05\n",
      "Iter 10: a=1.521370, b=2.000000, c=1.521377, f(c)=-1.746113e-05\n",
      "Iter 11: a=1.521377, b=2.000000, c=1.521379, f(c)=-5.042711e-06\n",
      "Iter 12: a=1.521379, b=2.000000, c=1.521379, f(c)=-1.456314e-06\n",
      "Iter 13: a=1.521379, b=2.000000, c=1.521380, f(c)=-4.205770e-07\n"
     ]
    }
   ],
   "source": [
    "# Cell 4: Run the method\n",
    "root, iterations = regula_falsi(f, a=1, b=2, tol=1e-6)\n",
    "\n",
    "print(f\"Estimated root: {root:.6f}\")\n",
    "print(\"\\nIteration data:\")\n",
    "for it in iterations:\n",
    "    print(f\"Iter {it[0]}: a={it[1]:.6f}, b={it[2]:.6f}, c={it[3]:.6f}, f(c)={it[4]:.6e}\")\n"
   ]
  }
 ],
 "metadata": {
  "kernelspec": {
   "display_name": "NumericalMethods-aKN8_MB3",
   "language": "python",
   "name": "python3"
  },
  "language_info": {
   "codemirror_mode": {
    "name": "ipython",
    "version": 3
   },
   "file_extension": ".py",
   "mimetype": "text/x-python",
   "name": "python",
   "nbconvert_exporter": "python",
   "pygments_lexer": "ipython3",
   "version": "3.12.3"
  }
 },
 "nbformat": 4,
 "nbformat_minor": 5
}
