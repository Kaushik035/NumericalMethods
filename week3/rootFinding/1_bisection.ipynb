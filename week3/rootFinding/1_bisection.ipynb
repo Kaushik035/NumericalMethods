{
 "cells": [
  {
   "cell_type": "code",
   "execution_count": 82,
   "id": "f1ab55bf",
   "metadata": {},
   "outputs": [],
   "source": [
    "\n",
    "import numpy as np\n",
    "import math"
   ]
  },
  {
   "cell_type": "code",
   "execution_count": 83,
   "id": "bb1e1cf2",
   "metadata": {},
   "outputs": [],
   "source": [
    "# Cell 2: Define the function for which we want to find the root\n",
    "def f(x):\n",
    "    \"\"\"\n",
    "    Example function: f(x) = x^3 - x - 2\n",
    "    You can replace this with your own function.\n",
    "    \"\"\"\n",
    "    return math.exp(-x) - x\n",
    "\n",
    "# math.exp(-x) - x , a=0, b=1\n",
    "# x**3 - x - 2 , a=1, b=2\n",
    "# math.cos(x) - x , a=0, b=1\n",
    "# x**3 -2*(x**2) + 4 , a=-2, b=0\n"
   ]
  },
  {
   "cell_type": "code",
   "execution_count": 84,
   "id": "43a5a1b8",
   "metadata": {},
   "outputs": [],
   "source": [
    "# Cell 3: Implement the Bisection Method\n",
    "def bisection(func, a, b, tol=1e-6, max_iter=100):\n",
    "    \"\"\"\n",
    "    Bisection method to find root of a function within interval [a, b].\n",
    "\n",
    "    Parameters:\n",
    "        func     : Function to evaluate\n",
    "        a, b     : Interval where the function changes sign\n",
    "        tol      : Tolerance for stopping criterion\n",
    "        max_iter : Maximum number of iterations\n",
    "\n",
    "    Returns:\n",
    "        root, iterations\n",
    "    \"\"\"\n",
    "    if func(a) * func(b) >= 0:\n",
    "        print(func(a), func(b))\n",
    "        raise ValueError(\"f(a) and f(b) must have opposite signs.\")\n",
    "\n",
    "    iteration_data = []\n",
    "\n",
    "    for i in range(max_iter):\n",
    "        mid = (a + b) / 2\n",
    "        f_mid = func(mid)\n",
    "        \n",
    "        # Store iteration data\n",
    "        iteration_data.append((i+1, a, b, mid, f_mid))\n",
    "\n",
    "        if abs(f_mid) < tol or (b - a) / 2 < tol:\n",
    "            return mid, iteration_data\n",
    "\n",
    "        if func(a) * f_mid < 0:\n",
    "            b = mid\n",
    "        else:\n",
    "            a = mid\n",
    "\n",
    "    raise ValueError(\"Max iterations reached without convergence.\")\n"
   ]
  },
  {
   "cell_type": "code",
   "execution_count": 85,
   "id": "a043adab",
   "metadata": {},
   "outputs": [
    {
     "name": "stdout",
     "output_type": "stream",
     "text": [
      "Estimated root: 0.567143\n",
      "\n",
      "Iteration data:\n",
      "Iter 1: a=0.000000, b=1.000000, mid=0.500000, f(mid)=1.065307e-01\n",
      "Iter 2: a=0.500000, b=1.000000, mid=0.750000, f(mid)=-2.776334e-01\n",
      "Iter 3: a=0.500000, b=0.750000, mid=0.625000, f(mid)=-8.973857e-02\n",
      "Iter 4: a=0.500000, b=0.625000, mid=0.562500, f(mid)=7.282825e-03\n",
      "Iter 5: a=0.562500, b=0.625000, mid=0.593750, f(mid)=-4.149755e-02\n",
      "Iter 6: a=0.562500, b=0.593750, mid=0.578125, f(mid)=-1.717584e-02\n",
      "Iter 7: a=0.562500, b=0.578125, mid=0.570312, f(mid)=-4.963760e-03\n",
      "Iter 8: a=0.562500, b=0.570312, mid=0.566406, f(mid)=1.155202e-03\n",
      "Iter 9: a=0.566406, b=0.570312, mid=0.568359, f(mid)=-1.905360e-03\n",
      "Iter 10: a=0.566406, b=0.568359, mid=0.567383, f(mid)=-3.753492e-04\n",
      "Iter 11: a=0.566406, b=0.567383, mid=0.566895, f(mid)=3.898588e-04\n",
      "Iter 12: a=0.566895, b=0.567383, mid=0.567139, f(mid)=7.237912e-06\n",
      "Iter 13: a=0.567139, b=0.567383, mid=0.567261, f(mid)=-1.840599e-04\n",
      "Iter 14: a=0.567139, b=0.567261, mid=0.567200, f(mid)=-8.841203e-05\n",
      "Iter 15: a=0.567139, b=0.567200, mid=0.567169, f(mid)=-4.058732e-05\n",
      "Iter 16: a=0.567139, b=0.567169, mid=0.567154, f(mid)=-1.667477e-05\n",
      "Iter 17: a=0.567139, b=0.567154, mid=0.567146, f(mid)=-4.718446e-06\n",
      "Iter 18: a=0.567139, b=0.567146, mid=0.567142, f(mid)=1.259729e-06\n",
      "Iter 19: a=0.567142, b=0.567146, mid=0.567144, f(mid)=-1.729360e-06\n",
      "Iter 20: a=0.567142, b=0.567144, mid=0.567143, f(mid)=-2.348157e-07\n"
     ]
    }
   ],
   "source": [
    "# Cell 4: Run the method\n",
    "root, iterations = bisection(f, a=0, b=1, tol=1e-6)\n",
    "\n",
    "print(f\"Estimated root: {root:.6f}\")\n",
    "print(\"\\nIteration data:\")\n",
    "for it in iterations:\n",
    "    print(f\"Iter {it[0]}: a={it[1]:.6f}, b={it[2]:.6f}, mid={it[3]:.6f}, f(mid)={it[4]:.6e}\")\n"
   ]
  }
 ],
 "metadata": {
  "kernelspec": {
   "display_name": "NumericalMethods-aKN8_MB3",
   "language": "python",
   "name": "python3"
  },
  "language_info": {
   "codemirror_mode": {
    "name": "ipython",
    "version": 3
   },
   "file_extension": ".py",
   "mimetype": "text/x-python",
   "name": "python",
   "nbconvert_exporter": "python",
   "pygments_lexer": "ipython3",
   "version": "3.12.3"
  }
 },
 "nbformat": 4,
 "nbformat_minor": 5
}
