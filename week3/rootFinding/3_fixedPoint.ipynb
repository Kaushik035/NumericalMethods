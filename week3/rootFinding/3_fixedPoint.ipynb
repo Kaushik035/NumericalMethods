{
 "cells": [
  {
   "cell_type": "code",
   "execution_count": 126,
   "id": "2d0dacbf",
   "metadata": {},
   "outputs": [],
   "source": [
    "import numpy as np\n",
    "import math"
   ]
  },
  {
   "cell_type": "code",
   "execution_count": 127,
   "id": "4f25132d",
   "metadata": {},
   "outputs": [],
   "source": [
    "# Cell 2: Define g(x) for the rearranged equation x = g(x)\n",
    "\n",
    "def g(x):\n",
    "    \"\"\"\n",
    "    Example: Solve f(x) = x^3 - x - 2 = 0\n",
    "    One rearrangement could be: x = (x + 2)^(1/3)\n",
    "    \"\"\"\n",
    "    return math.cos(x)\n",
    "\n",
    "# math.exp(-x)\n",
    "#  (x + 2) ** (1/3)\n",
    "# math.cos(x)\n",
    "# -np.sqrt((x**3 + 4) / 2)\n"
   ]
  },
  {
   "cell_type": "code",
   "execution_count": 128,
   "id": "001ed3b2",
   "metadata": {},
   "outputs": [],
   "source": [
    "# Cell 3: Convergence check function\n",
    "def check_convergence(g_func, x0):\n",
    "    \"\"\"\n",
    "    Checks if |g'(x)| < 1 at x0.\n",
    "    Uses numerical differentiation.\n",
    "    \"\"\"\n",
    "    h = 1e-6\n",
    "    g_prime = (g_func(x0 + h) - g_func(x0 - h)) / (2*h)  # central difference\n",
    "    print(f\"g'(x0) ≈ {g_prime:.6f}\")\n",
    "    if abs(g_prime) >= 1:\n",
    "        print(\"⚠ Warning: |g'(x0)| >= 1 → May not converge.\")\n",
    "    else:\n",
    "        print(\"✅ Convergence condition likely satisfied.\")\n"
   ]
  },
  {
   "cell_type": "code",
   "execution_count": 129,
   "id": "ce8cc264",
   "metadata": {},
   "outputs": [],
   "source": [
    "# Cell 4: Implement Fixed Point Iteration\n",
    "def fixed_point_iteration(g_func, x0, tol=1e-6, max_iter=100):\n",
    "    \"\"\"\n",
    "    Fixed Point Iteration method to find the root using x = g(x).\n",
    "\n",
    "    Parameters:\n",
    "        g_func   : Function g(x) after rearranging f(x) = 0\n",
    "        x0       : Initial guess\n",
    "        tol      : Tolerance for stopping criterion\n",
    "        max_iter : Maximum number of iterations\n",
    "\n",
    "    Returns:\n",
    "        root, iterations\n",
    "    \"\"\"\n",
    "    # Check convergence condition first\n",
    "    check_convergence(g_func, x0)\n",
    "\n",
    "    iteration_data = []\n",
    "    x_current = x0\n",
    "\n",
    "    for i in range(max_iter):\n",
    "        x_next = g_func(x_current)\n",
    "        error = abs((x_next - x_current) / x_current) if x_current != 0 else abs(x_next - x_current)\n",
    "\n",
    "        iteration_data.append((i+1, x_current, x_next, error))\n",
    "\n",
    "        if error < tol:\n",
    "            return x_next, iteration_data\n",
    "\n",
    "        x_current = x_next\n",
    "\n",
    "    raise ValueError(\"Max iterations reached without convergence.\")\n"
   ]
  },
  {
   "cell_type": "code",
   "execution_count": 130,
   "id": "1367ea24",
   "metadata": {},
   "outputs": [
    {
     "name": "stdout",
     "output_type": "stream",
     "text": [
      "g'(x0) ≈ -0.997495\n",
      "✅ Convergence condition likely satisfied.\n",
      "\n",
      "Estimated root: 0.739085\n",
      "\n",
      "Iteration data:\n",
      "Iter 1: x_current=1.500000, x_next=0.070737, error=9.528419e-01\n",
      "Iter 2: x_current=0.070737, x_next=0.997499, error=1.310148e+01\n",
      "Iter 3: x_current=0.997499, x_next=0.542405, error=4.562351e-01\n",
      "Iter 4: x_current=0.542405, x_next=0.856470, error=5.790225e-01\n",
      "Iter 5: x_current=0.856470, x_next=0.655109, error=2.351057e-01\n",
      "Iter 6: x_current=0.655109, x_next=0.792982, error=2.104579e-01\n",
      "Iter 7: x_current=0.792982, x_next=0.701724, error=1.150814e-01\n",
      "Iter 8: x_current=0.701724, x_next=0.763730, error=8.836256e-02\n",
      "Iter 9: x_current=0.763730, x_next=0.722261, error=5.429826e-02\n",
      "Iter 10: x_current=0.722261, x_next=0.750313, error=3.883887e-02\n",
      "Iter 11: x_current=0.750313, x_next=0.731476, error=2.510596e-02\n",
      "Iter 12: x_current=0.731476, x_next=0.744190, error=1.738134e-02\n",
      "Iter 13: x_current=0.744190, x_next=0.735637, error=1.149235e-02\n",
      "Iter 14: x_current=0.735637, x_next=0.741403, error=7.838477e-03\n",
      "Iter 15: x_current=0.741403, x_next=0.737522, error=5.235771e-03\n",
      "Iter 16: x_current=0.737522, x_next=0.740137, error=3.546907e-03\n",
      "Iter 17: x_current=0.740137, x_next=0.738376, error=2.380126e-03\n",
      "Iter 18: x_current=0.738376, x_next=0.739563, error=1.607409e-03\n",
      "Iter 19: x_current=0.739563, x_next=0.738763, error=1.080895e-03\n",
      "Iter 20: x_current=0.738763, x_next=0.739302, error=7.289540e-04\n",
      "Iter 21: x_current=0.739302, x_next=0.738939, error=4.906462e-04\n",
      "Iter 22: x_current=0.738939, x_next=0.739183, error=3.306802e-04\n",
      "Iter 23: x_current=0.739183, x_next=0.739019, error=2.226707e-04\n",
      "Iter 24: x_current=0.739019, x_next=0.739130, error=1.500297e-04\n",
      "Iter 25: x_current=0.739130, x_next=0.739055, error=1.010455e-04\n",
      "Iter 26: x_current=0.739055, x_next=0.739105, error=6.807287e-05\n",
      "Iter 27: x_current=0.739105, x_next=0.739071, error=4.585133e-05\n",
      "Iter 28: x_current=0.739071, x_next=0.739094, error=3.088754e-05\n",
      "Iter 29: x_current=0.739094, x_next=0.739079, error=2.080552e-05\n",
      "Iter 30: x_current=0.739079, x_next=0.739089, error=1.401517e-05\n",
      "Iter 31: x_current=0.739089, x_next=0.739082, error=9.440642e-06\n",
      "Iter 32: x_current=0.739082, x_next=0.739087, error=6.359395e-06\n",
      "Iter 33: x_current=0.739087, x_next=0.739084, error=4.283735e-06\n",
      "Iter 34: x_current=0.739084, x_next=0.739086, error=2.885589e-06\n",
      "Iter 35: x_current=0.739086, x_next=0.739085, error=1.943761e-06\n",
      "Iter 36: x_current=0.739085, x_next=0.739086, error=1.309344e-06\n",
      "Iter 37: x_current=0.739086, x_next=0.739085, error=8.819885e-07\n"
     ]
    }
   ],
   "source": [
    "# Cell 5: Run the method\n",
    "x0 = 1.5  # initial guess\n",
    "root, iterations = fixed_point_iteration(g, x0, tol=1e-6)\n",
    "\n",
    "print(f\"\\nEstimated root: {root:.6f}\")\n",
    "print(\"\\nIteration data:\")\n",
    "for it in iterations:\n",
    "    print(f\"Iter {it[0]}: x_current={it[1]:.6f}, x_next={it[2]:.6f}, error={it[3]:.6e}\")\n"
   ]
  }
 ],
 "metadata": {
  "kernelspec": {
   "display_name": "NumericalMethods-aKN8_MB3",
   "language": "python",
   "name": "python3"
  },
  "language_info": {
   "codemirror_mode": {
    "name": "ipython",
    "version": 3
   },
   "file_extension": ".py",
   "mimetype": "text/x-python",
   "name": "python",
   "nbconvert_exporter": "python",
   "pygments_lexer": "ipython3",
   "version": "3.12.3"
  }
 },
 "nbformat": 4,
 "nbformat_minor": 5
}
