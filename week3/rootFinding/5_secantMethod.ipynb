{
 "cells": [
  {
   "cell_type": "code",
   "execution_count": 14,
   "id": "fd023b7d",
   "metadata": {},
   "outputs": [],
   "source": [
    "import numpy as np\n",
    "import math"
   ]
  },
  {
   "cell_type": "code",
   "execution_count": 15,
   "id": "7ff0c847",
   "metadata": {},
   "outputs": [],
   "source": [
    "# Define the function\n",
    "def f(x):\n",
    "    # Example: Solve x^3 - 2x^2 + 4 = 0\n",
    "    return math.exp(-x) - x\n",
    "\n",
    "# \n",
    "# x**3 -x - 2\n",
    "# math.cos(x) -x\n",
    "# x**3 - 2*x**2 + 4\n"
   ]
  },
  {
   "cell_type": "code",
   "execution_count": 16,
   "id": "045e8829",
   "metadata": {},
   "outputs": [],
   "source": [
    "def secant_method(f, x0, x1, tol=1e-6, max_iter=100):\n",
    "    \"\"\"\n",
    "    Secant Method for root finding.\n",
    "\n",
    "    Parameters:\n",
    "        f        : function\n",
    "        x0, x1   : initial guesses (should be close to the root)\n",
    "        tol      : tolerance for stopping\n",
    "        max_iter : maximum number of iterations\n",
    "\n",
    "    Returns:\n",
    "        root, iteration_data\n",
    "    \"\"\"\n",
    "    iteration_data = []\n",
    "\n",
    "    for i in range(max_iter):\n",
    "        f_x0 = f(x0)\n",
    "        f_x1 = f(x1)\n",
    "\n",
    "        # Avoid division by zero\n",
    "        if f_x1 == f_x0:\n",
    "            raise ZeroDivisionError(\"f(x1) and f(x0) became equal — division by zero in Secant formula.\")\n",
    "\n",
    "        # Secant update formula\n",
    "        x2 = x1 - f_x1 * (x1 - x0) / (f_x1 - f_x0)\n",
    "\n",
    "        # Store iteration data\n",
    "        iteration_data.append((i+1, x0, x1, x2, f_x0, f_x1, abs(x2 - x1)))\n",
    "\n",
    "        # Check convergence\n",
    "        if abs(x2 - x1) < tol or abs(f(x2)) < tol:\n",
    "            return x2, iteration_data\n",
    "\n",
    "        # Update for next iteration\n",
    "        x0, x1 = x1, x2\n",
    "\n",
    "    # If max iterations reached\n",
    "    raise ValueError(\"Maximum iterations reached without convergence.\")\n"
   ]
  },
  {
   "cell_type": "code",
   "execution_count": 17,
   "id": "fa3c7297",
   "metadata": {},
   "outputs": [
    {
     "name": "stdout",
     "output_type": "stream",
     "text": [
      "Estimated root: 0.567143\n",
      "\n",
      "Iteration data:\n",
      "Iter |    x0       |    x1       |    x2       |   f(x0)      |   f(x1)      |   Error\n",
      "--------------------------------------------------------------------------------\n",
      "   1 |  -2.000000 |  -1.000000 |  -0.344308 |   9.389056 |   3.718282 | 6.556921e-01\n",
      "   2 |  -1.000000 |  -0.344308 |   0.242026 |   3.718282 |   1.755321 | 5.863337e-01\n",
      "   3 |  -0.344308 |   0.242026 |   0.504652 |   1.755321 |   0.543010 | 2.626267e-01\n",
      "   4 |   0.242026 |   0.504652 |   0.563255 |   0.543010 |   0.099063 | 5.860282e-02\n",
      "   5 |   0.504652 |   0.563255 |   0.567099 |   0.099063 |   0.006097 | 3.843610e-03\n",
      "   6 |   0.563255 |   0.567099 |   0.567143 |   0.006097 |   0.000070 | 4.437638e-05\n"
     ]
    }
   ],
   "source": [
    "# Initial guesses\n",
    "x0 = -2\n",
    "x1 = -1\n",
    "\n",
    "# Run Secant method\n",
    "root, iterations = secant_method(f, x0, x1, tol=1e-6, max_iter=100)\n",
    "\n",
    "# Print results\n",
    "print(f\"Estimated root: {root:.6f}\\n\")\n",
    "print(\"Iteration data:\")\n",
    "print(\"Iter |    x0       |    x1       |    x2       |   f(x0)      |   f(x1)      |   Error\")\n",
    "print(\"-\"*80)\n",
    "for it in iterations:\n",
    "    print(f\"{it[0]:>4} | {it[1]:>10.6f} | {it[2]:>10.6f} | {it[3]:>10.6f} | {it[4]:>10.6f} | {it[5]:>10.6f} | {it[6]:>10.6e}\")\n"
   ]
  }
 ],
 "metadata": {
  "kernelspec": {
   "display_name": "NumericalMethods-aKN8_MB3",
   "language": "python",
   "name": "python3"
  },
  "language_info": {
   "codemirror_mode": {
    "name": "ipython",
    "version": 3
   },
   "file_extension": ".py",
   "mimetype": "text/x-python",
   "name": "python",
   "nbconvert_exporter": "python",
   "pygments_lexer": "ipython3",
   "version": "3.12.3"
  }
 },
 "nbformat": 4,
 "nbformat_minor": 5
}
