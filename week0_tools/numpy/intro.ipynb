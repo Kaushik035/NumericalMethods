{
 "cells": [
  {
   "cell_type": "markdown",
   "id": "7ec83f70",
   "metadata": {},
   "source": [
    "### NumPy vs. Python Lists – Performance Test\n",
    "Let’s compare Python lists with NumPy arrays using a simple example"
   ]
  },
  {
   "cell_type": "code",
   "execution_count": 5,
   "id": "871ce165",
   "metadata": {},
   "outputs": [
    {
     "name": "stdout",
     "output_type": "stream",
     "text": [
      "Python list addition time: 0.12790131568908691\n",
      "NumPy array addition time: 0.025894641876220703\n"
     ]
    }
   ],
   "source": [
    "import numpy as np\n",
    "import time\n",
    "\n",
    " # Python list\n",
    "size = 1_000_000\n",
    "list1 = list(range(size))\n",
    "list2 = list(range(size))\n",
    "start = time.time()\n",
    "result = [x + y for x, y in zip(list1, list2)] # result = [0+0, 1+1, 2+2, ..., 999999+999999]\n",
    "end = time.time()\n",
    "\n",
    "print(\"Python list addition time:\", end - start)\n",
    "\n",
    "\n",
    " # NumPy array\n",
    "arr1 = np.array(list1)\n",
    "arr2 = np.array(list2)\n",
    "start = time.time()\n",
    "result = arr1 + arr2  # Vectorized operation , result = [0+0, 1+1, 2+2, ..., 999999+999999]\n",
    "end = time.time()\n",
    "print(\"NumPy array addition time:\", end - start)"
   ]
  },
  {
   "cell_type": "markdown",
   "id": "85727226",
   "metadata": {},
   "source": [
    "What is zip() in Python?\n",
    "\n",
    "* The zip() function takes two (or more) sequences (like lists) and pairs up their elements into tuples."
   ]
  },
  {
   "cell_type": "code",
   "execution_count": 6,
   "id": "26dacba1",
   "metadata": {},
   "outputs": [
    {
     "name": "stdout",
     "output_type": "stream",
     "text": [
      "[(1, 4), (2, 5), (3, 6)]\n"
     ]
    }
   ],
   "source": [
    "list1 = [1, 2, 3]\n",
    "list2 = [4, 5, 6]\n",
    "\n",
    "zipped = zip(list1, list2)\n",
    "print(list(zipped))  # [(1, 4), (2, 5), (3, 6)]\n"
   ]
  },
  {
   "cell_type": "markdown",
   "id": "78161f1b",
   "metadata": {},
   "source": [
    "#  Creating NumPy Arrays"
   ]
  },
  {
   "cell_type": "code",
   "execution_count": 7,
   "id": "96b542ab",
   "metadata": {},
   "outputs": [
    {
     "name": "stdout",
     "output_type": "stream",
     "text": [
      "[1 2 3 4 5]\n",
      "[[1 2 3]\n",
      " [4 5 6]]\n",
      "Type: <class 'numpy.ndarray'>\n",
      "Shape: (2, 3)\n"
     ]
    }
   ],
   "source": [
    "# Creating a 1D NumPy array\n",
    "arr1 = np.array([1, 2, 3, 4, 5])\n",
    "print(arr1)\n",
    "\n",
    "# Creating a 2D NumPy array\n",
    "arr2 = np.array([[1, 2, 3], [4, 5, 6]])\n",
    "print(arr2)\n",
    "\n",
    "# Checking type and shape\n",
    "print(\"Type:\", type(arr1))\n",
    "print(\"Shape:\", arr2.shape)"
   ]
  },
  {
   "cell_type": "markdown",
   "id": "f0a83aa8",
   "metadata": {},
   "source": [
    "## Memory Efficiency – NumPy vs. Lists"
   ]
  },
  {
   "cell_type": "code",
   "execution_count": 8,
   "id": "5979d926",
   "metadata": {},
   "outputs": [
    {
     "name": "stdout",
     "output_type": "stream",
     "text": [
      "Python list size: 8056000 bytes\n",
      "NumPy array size: 8000 bytes\n"
     ]
    }
   ],
   "source": [
    "import sys\n",
    "list_data = list(range(1000))\n",
    "numpy_data = np.array(list_data)\n",
    "print(\"Python list size:\", sys.getsizeof(list_data) * len(list_data), \"bytes\")\n",
    "print(\"NumPy array size:\", numpy_data.nbytes, \"bytes\")"
   ]
  },
  {
   "cell_type": "markdown",
   "id": "5d422d5f",
   "metadata": {},
   "source": [
    "##  Vectorization – No More Loops!\n",
    "\n",
    " NumPy avoids loops by applying operations to entire arrays at once using SIMD\n",
    " (Single Instruction, Multiple Data) and other low-level optimizations. SIMD is a\n",
    " CPU-level optimization provided by modern processors"
   ]
  },
  {
   "cell_type": "code",
   "execution_count": null,
   "id": "68454892",
   "metadata": {},
   "outputs": [
    {
     "name": "stdout",
     "output_type": "stream",
     "text": [
      "List comprehension result: [1, 4, 9, 16, 25]\n",
      "NumPy array operation result: [ 1  4  9 16 25]\n"
     ]
    }
   ],
   "source": [
    "listNumbers = [1, 2, 3, 4, 5]\n",
    "\n",
    "list_squares = [x**2 for x in listNumbers]\n",
    "\n",
    "print(\"List comprehension result:\", list_squares)\n",
    "\n",
    "\n",
    "# using NumPy for the same operation\n",
    "arrNumbers = np.array(listNumbers)\n",
    "\n",
    "arr_squares = arrNumbers**2\n",
    "print(\"NumPy array operation result:\", arr_squares)"
   ]
  },
  {
   "cell_type": "markdown",
   "id": "689c0781",
   "metadata": {},
   "source": [
    "## Exercises for Practice\n",
    "\n",
    "1. Create a NumPy array with values from 10 to 100 and print its shape.\n",
    "2. Compare the time taken to multiply two Python lists vs. two NumPy arrays.\n",
    "3. Find the memory size of a NumPy array with 1 million elements."
   ]
  },
  {
   "cell_type": "code",
   "execution_count": 13,
   "id": "7e0499a8",
   "metadata": {},
   "outputs": [
    {
     "name": "stdout",
     "output_type": "stream",
     "text": [
      "Array with values from 10 to 100: [ 10  11  12  13  14  15  16  17  18  19  20  21  22  23  24  25  26  27\n",
      "  28  29  30  31  32  33  34  35  36  37  38  39  40  41  42  43  44  45\n",
      "  46  47  48  49  50  51  52  53  54  55  56  57  58  59  60  61  62  63\n",
      "  64  65  66  67  68  69  70  71  72  73  74  75  76  77  78  79  80  81\n",
      "  82  83  84  85  86  87  88  89  90  91  92  93  94  95  96  97  98  99\n",
      " 100]\n",
      "Shape of the array: (91,)\n"
     ]
    }
   ],
   "source": [
    "arr =np.array(range(10,101))\n",
    "\n",
    "print(\"Array with values from 10 to 100:\", arr)\n",
    "print(\"Shape of the array:\", arr.shape)"
   ]
  },
  {
   "cell_type": "code",
   "execution_count": 14,
   "id": "999cfb5d",
   "metadata": {},
   "outputs": [
    {
     "name": "stdout",
     "output_type": "stream",
     "text": [
      "Python list multiplication time: 0.1408381462097168\n",
      "NumPy array multiplication time: 0.01766371726989746\n"
     ]
    }
   ],
   "source": [
    "size = 1_000_000\n",
    "list1 = list(range(size))\n",
    "list2 = list(range(size))\n",
    "start = time.time()\n",
    "result = [x * y for x, y in zip(list1, list2)] # result = [0+0, 1+1, 2+2, ..., 999999+999999]\n",
    "end = time.time()\n",
    "\n",
    "print(\"Python list multiplication time:\", end - start)\n",
    "\n",
    "\n",
    " # NumPy array\n",
    "arr1 = np.array(list1)\n",
    "arr2 = np.array(list2)\n",
    "start = time.time()\n",
    "result = arr1 * arr2  # Vectorized operation , result = [0+0, 1+1, 2+2, ..., 999999+999999]\n",
    "end = time.time()\n",
    "print(\"NumPy array multiplication time:\", end - start)"
   ]
  },
  {
   "cell_type": "markdown",
   "id": "a3cc2a6e",
   "metadata": {},
   "source": []
  }
 ],
 "metadata": {
  "kernelspec": {
   "display_name": "NumericalMethods-aKN8_MB3",
   "language": "python",
   "name": "python3"
  },
  "language_info": {
   "codemirror_mode": {
    "name": "ipython",
    "version": 3
   },
   "file_extension": ".py",
   "mimetype": "text/x-python",
   "name": "python",
   "nbconvert_exporter": "python",
   "pygments_lexer": "ipython3",
   "version": "3.12.3"
  }
 },
 "nbformat": 4,
 "nbformat_minor": 5
}
