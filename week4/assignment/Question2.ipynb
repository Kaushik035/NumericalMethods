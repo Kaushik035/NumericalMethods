{
 "cells": [
  {
   "cell_type": "code",
   "execution_count": null,
   "id": "e54955f9",
   "metadata": {},
   "outputs": [
    {
     "name": "stdout",
     "output_type": "stream",
     "text": [
      "Solution vector x:\n",
      " [2.07244105 0.0215863  0.01096005 1.03622226]\n"
     ]
    }
   ],
   "source": [
    "import numpy as np\n",
    "\n",
    "def tridiagonal_solve(e, f, g, r):\n",
    "    \"\"\"\n",
    "    Solve tridiagonal system using Thomas algorithm.\n",
    "    e = sub-diagonal (len n-1)\n",
    "    f = main diagonal (len n)\n",
    "    g = super-diagonal (len n-1)\n",
    "    r = RHS (len n)\n",
    "    \"\"\"\n",
    "    n = len(f)\n",
    "\n",
    "    # decomposition and forward elimination \n",
    "    for k in range(1, n):\n",
    "        factor = e[k-1] / f[k-1] \n",
    "        f[k] = f[k] - factor * g[k-1]\n",
    "        r[k] = r[k] - factor * r[k-1]\n",
    "\n",
    "    # Back substitution\n",
    "    x = np.zeros(n)\n",
    "    x[-1] = r[-1] / f[-1]\n",
    "    for k in range(n-2, -1, -1):\n",
    "        x[k] = (r[k] - g[k] * x[k+1]) / f[k]\n",
    "\n",
    "    return x\n",
    "\n",
    "# Given system is:\n",
    "A = np.array([[2.01475,   -0.020875, 0,0   ],\n",
    "              [-0.020875, 2.01475,   -0.020875, 0],\n",
    "              [0,         -0.020875, 2.01475,   -0.020875],\n",
    "              [0,         0,         -0.020875, 2.01475]])\n",
    "\n",
    "r = np.array([4.175, 0, 0, 2.0875], dtype=float)\n",
    "\n",
    "# Extract diagonals\n",
    "n = len(r)\n",
    "e = np.array([A[i, i-1] for i in range(1, n)], dtype=float)  # sub-diagonal\n",
    "f = np.array([A[i, i] for i in range(n)], dtype=float)       # main diagonal\n",
    "g = np.array([A[i, i+1] for i in range(n-1)], dtype=float)   # super-diagonal\n",
    "\n",
    "# Solve system\n",
    "x = tridiagonal_solve(e, f, g, r)\n",
    "\n",
    "print(\"Solution vector x:\\n\", x)"
   ]
  }
 ],
 "metadata": {
  "kernelspec": {
   "display_name": "NumericalMethods-aKN8_MB3",
   "language": "python",
   "name": "python3"
  },
  "language_info": {
   "codemirror_mode": {
    "name": "ipython",
    "version": 3
   },
   "file_extension": ".py",
   "mimetype": "text/x-python",
   "name": "python",
   "nbconvert_exporter": "python",
   "pygments_lexer": "ipython3",
   "version": "3.12.3"
  }
 },
 "nbformat": 4,
 "nbformat_minor": 5
}
