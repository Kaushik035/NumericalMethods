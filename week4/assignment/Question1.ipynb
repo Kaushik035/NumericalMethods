{
 "cells": [
  {
   "cell_type": "code",
   "execution_count": 9,
   "id": "219c9c41",
   "metadata": {},
   "outputs": [],
   "source": [
    "import numpy as np\n",
    "\n",
    "def lu_decomposition_with_partial_pivoting(matrix_A):\n",
    "    \"\"\"\n",
    "    Performs LU decomposition of matrix_A using Gaussian Elimination with Partial Pivoting.\n",
    "    Returns:\n",
    "        L: Lower triangular matrix\n",
    "        U: Upper triangular matrix\n",
    "        P: Permutation matrix (for row swaps)\n",
    "    \"\"\"\n",
    "    number_of_rows = matrix_A.shape[0]\n",
    "    permutation_matrix = np.eye(number_of_rows)\n",
    "    lower_matrix = np.zeros_like(matrix_A)\n",
    "    upper_matrix = matrix_A.copy().astype(float)\n",
    "\n",
    "    for k in range(number_of_rows):\n",
    "        # Partial Pivoting: Find index of max value in column k from row k to end\n",
    "        max_row_index = np.argmax(np.abs(upper_matrix[k:, k])) + k\n",
    "\n",
    "        if upper_matrix[max_row_index, k] == 0:\n",
    "            raise ValueError(\"Matrix is singular!\")\n",
    "\n",
    "        # Swap rows in U\n",
    "        upper_matrix[[k, max_row_index]] = upper_matrix[[max_row_index, k]]\n",
    "\n",
    "        # Swap rows in permutation matrix\n",
    "        permutation_matrix[[k, max_row_index]] = permutation_matrix[[max_row_index, k]]\n",
    "\n",
    "        # Swap rows in lower matrix (only for the part that was filled)\n",
    "        lower_matrix[[k, max_row_index], :k] = lower_matrix[[max_row_index, k], :k]\n",
    "\n",
    "        # Elimination\n",
    "        for i in range(k+1, number_of_rows):\n",
    "            multiplier = upper_matrix[i, k] / upper_matrix[k, k]\n",
    "            lower_matrix[i, k] = multiplier\n",
    "            upper_matrix[i, :] = upper_matrix[i, :] - multiplier * upper_matrix[k, :]\n",
    "\n",
    "    # Fill the diagonal of L with 1s\n",
    "    np.fill_diagonal(lower_matrix, 1.0)\n",
    "\n",
    "    return lower_matrix, upper_matrix, permutation_matrix\n",
    "\n",
    "\n",
    "def forward_substitution(lower_matrix, vector_b):\n",
    "    \"\"\"\n",
    "    Solves Lz = b using forward substitution.\n",
    "    Returns the intermediate vector z.\n",
    "    \"\"\"\n",
    "    number_of_rows = lower_matrix.shape[0]\n",
    "    vector_z = np.zeros_like(vector_b)\n",
    "\n",
    "    for i in range(number_of_rows):\n",
    "        sum_terms = sum(lower_matrix[i, j] * vector_z[j] for j in range(i))\n",
    "        vector_z[i] = (vector_b[i] - sum_terms) / lower_matrix[i, i]\n",
    "\n",
    "    return vector_z\n",
    "\n",
    "\n",
    "def backward_substitution(upper_matrix, vector_z):\n",
    "    \"\"\"\n",
    "    Solves Ux = z using backward substitution.\n",
    "    Returns the final solution vector x.\n",
    "    \"\"\"\n",
    "    number_of_rows = upper_matrix.shape[0]\n",
    "    vector_x = np.zeros_like(vector_z)\n",
    "\n",
    "    for i in reversed(range(number_of_rows)):\n",
    "        sum_terms = sum(upper_matrix[i, j] * vector_x[j] for j in range(i + 1, number_of_rows))\n",
    "        vector_x[i] = (vector_z[i] - sum_terms) / upper_matrix[i, i]\n",
    "\n",
    "    return vector_x\n"
   ]
  },
  {
   "cell_type": "code",
   "execution_count": 10,
   "id": "57580aab",
   "metadata": {},
   "outputs": [],
   "source": [
    "def inverse_using_lu(matrix_A):\n",
    "    \"\"\"\n",
    "    Computes the inverse of matrix_A using LU decomposition with partial pivoting.\n",
    "    \"\"\"\n",
    "    n = matrix_A.shape[0]\n",
    "    L, U, P = lu_decomposition_with_partial_pivoting(matrix_A)\n",
    "    inverse_matrix = np.zeros_like(matrix_A, dtype=float)\n",
    "    # For each column of the identity matrix\n",
    "    for i in range(n):\n",
    "        e = np.zeros(n)\n",
    "        e[i] = 1\n",
    "        # Apply permutation to e\n",
    "        b = np.dot(P, e)\n",
    "        # Forward substitution to solve Lz = b\n",
    "        z = forward_substitution(L, b)\n",
    "        # Backward substitution to solve Ux = z\n",
    "        x = backward_substitution(U, z)\n",
    "        inverse_matrix[:, i] = x\n",
    "    return inverse_matrix"
   ]
  },
  {
   "cell_type": "code",
   "execution_count": 11,
   "id": "c80952d6",
   "metadata": {},
   "outputs": [],
   "source": [
    "def matrix_multiply(A, b):\n",
    "    result = np.zeros(A.shape[0])\n",
    "    for i in range(A.shape[0]):\n",
    "        for j in range(A.shape[1]):\n",
    "            result[i] += A[i][j] * b[j]\n",
    "    return result"
   ]
  },
  {
   "cell_type": "code",
   "execution_count": 12,
   "id": "4f995d52",
   "metadata": {},
   "outputs": [],
   "source": [
    "A = np.array([\n",
    "    [15.0, -3.0, -1.0],\n",
    "    [-3.0, 18.0, -6.0],\n",
    "    [-4.0, -1.0, 12.0]\n",
    "])\n",
    "b = np.array([3300.0, 1200.0, 2400.0])"
   ]
  },
  {
   "cell_type": "markdown",
   "id": "e5539796",
   "metadata": {},
   "source": [
    "Q1. 1st Part: Calculation of the inverse matrix"
   ]
  },
  {
   "cell_type": "code",
   "execution_count": 13,
   "id": "52867c65",
   "metadata": {},
   "outputs": [
    {
     "name": "stdout",
     "output_type": "stream",
     "text": [
      "Inverse of A:\n",
      " [[0.07253886 0.01278066 0.01243523]\n",
      " [0.02072539 0.06079447 0.03212435]\n",
      " [0.02590674 0.00932642 0.09015544]]\n"
     ]
    }
   ],
   "source": [
    "A_inv = inverse_using_lu(A)\n",
    "print(\"Inverse of A:\\n\", A_inv)"
   ]
  },
  {
   "cell_type": "markdown",
   "id": "30c55fc2",
   "metadata": {},
   "source": [
    "Q1. 2nd Part: Find solution using the inverse"
   ]
  },
  {
   "cell_type": "code",
   "execution_count": 14,
   "id": "fe92efd3",
   "metadata": {},
   "outputs": [
    {
     "name": "stdout",
     "output_type": "stream",
     "text": [
      "Solution x using inverse matrix:\n",
      " [284.55958549 218.44559585 313.05699482]\n"
     ]
    }
   ],
   "source": [
    "x_via_inverse = matrix_multiply(A_inv, b)\n",
    "\n",
    "print(\"Solution x using inverse matrix:\\n\", x_via_inverse)"
   ]
  },
  {
   "cell_type": "markdown",
   "id": "cdd630f3",
   "metadata": {},
   "source": [
    "Q1. 4th part: reduce the 1st and 2nd row of the b vector, b1 = b1 - 700 , b2 = b2 -350"
   ]
  },
  {
   "cell_type": "code",
   "execution_count": 15,
   "id": "fb864bc5",
   "metadata": {},
   "outputs": [
    {
     "name": "stdout",
     "output_type": "stream",
     "text": [
      "Solution x using inverse matrix (reduced):\n",
      " [229.30915371 182.6597582  291.65803109]\n"
     ]
    }
   ],
   "source": [
    "\n",
    "b_reduced = np.array([2600.0, 850.0, 2400.0])\n",
    "x_via_inverse_reduced = matrix_multiply(A_inv, b_reduced)\n",
    "print(\"Solution x using inverse matrix (reduced):\\n\", x_via_inverse_reduced)\n"
   ]
  }
 ],
 "metadata": {
  "kernelspec": {
   "display_name": "NumericalMethods-aKN8_MB3",
   "language": "python",
   "name": "python3"
  },
  "language_info": {
   "codemirror_mode": {
    "name": "ipython",
    "version": 3
   },
   "file_extension": ".py",
   "mimetype": "text/x-python",
   "name": "python",
   "nbconvert_exporter": "python",
   "pygments_lexer": "ipython3",
   "version": "3.12.3"
  }
 },
 "nbformat": 4,
 "nbformat_minor": 5
}
